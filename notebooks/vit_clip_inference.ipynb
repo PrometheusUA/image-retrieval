{
 "cells": [
  {
   "cell_type": "code",
   "execution_count": 1,
   "metadata": {},
   "outputs": [],
   "source": [
    "import sys\n",
    "import os\n",
    "sys.path.append('../')"
   ]
  },
  {
   "cell_type": "code",
   "execution_count": 2,
   "metadata": {},
   "outputs": [
    {
     "name": "stderr",
     "output_type": "stream",
     "text": [
      "c:\\Users\\Andrii\\miniconda3\\envs\\image_retrieval\\Lib\\site-packages\\tqdm\\auto.py:21: TqdmWarning: IProgress not found. Please update jupyter and ipywidgets. See https://ipywidgets.readthedocs.io/en/stable/user_install.html\n",
      "  from .autonotebook import tqdm as notebook_tqdm\n"
     ]
    }
   ],
   "source": [
    "import torch\n",
    "import faiss\n",
    "from PIL import Image\n",
    "from tqdm import tqdm\n",
    "import torchvision.transforms as T\n",
    "import pandas as pd\n",
    "import numpy as np\n",
    "import matplotlib.pyplot as plt\n",
    "import timm\n",
    "\n",
    "from utils.data import get_loaders\n",
    "from utils.metrics import mean_average_precision_at_k\n",
    "from utils.constants import TRAIN_CSV, TEST_CSV, TRAIN_DIR, TEST_DIR"
   ]
  },
  {
   "cell_type": "code",
   "execution_count": 3,
   "metadata": {},
   "outputs": [],
   "source": [
    "# image_processor = AutoImageProcessor.from_pretrained(\"facebook/dinov2-base\")\n",
    "# model = Dinov2Model.from_pretrained(\"facebook/dinov2-base\").to(\"cuda\")"
   ]
  },
  {
   "cell_type": "code",
   "execution_count": 4,
   "metadata": {},
   "outputs": [
    {
     "data": {
      "text/plain": [
       "'c:\\\\Users\\\\Andrii\\\\Data\\\\_UNIVER\\\\UCU\\\\3 sem\\\\CV\\\\image_retrieval\\\\data\\\\train.csv'"
      ]
     },
     "execution_count": 4,
     "metadata": {},
     "output_type": "execute_result"
    }
   ],
   "source": [
    "TRAIN_CSV"
   ]
  },
  {
   "cell_type": "code",
   "execution_count": 5,
   "metadata": {},
   "outputs": [],
   "source": [
    "loaders_params = { \n",
    "    'batch_size': 64,\n",
    "    'num_workers': 8,\n",
    "    'pin_memory': False,\n",
    "    'persistent_workers': True,\n",
    "}\n",
    "train_loader, val_loader, test_loader = get_loaders(**loaders_params,\n",
    "                                                    train_transforms=T.Compose([\n",
    "                                                        T.Resize(224, interpolation=T.InterpolationMode.BICUBIC),\n",
    "                                                        T.CenterCrop((224, 224)),\n",
    "                                                        T.ToTensor(),\n",
    "                                                        T.Normalize(mean=torch.tensor([0.4815, 0.4578, 0.4082]),\n",
    "                                                                    std=torch.tensor([0.2686, 0.2613, 0.2758])),\n",
    "                                                    ]),\n",
    "                                                    test_transforms=T.Compose([\n",
    "                                                        T.Resize(224, interpolation=T.InterpolationMode.BICUBIC),\n",
    "                                                        T.CenterCrop((224, 224)),\n",
    "                                                        T.ToTensor(),\n",
    "                                                        T.Normalize(mean=torch.tensor([0.4815, 0.4578, 0.4082]),\n",
    "                                                                    std=torch.tensor([0.2686, 0.2613, 0.2758])),\n",
    "                                                    ]))"
   ]
  },
  {
   "cell_type": "code",
   "execution_count": 6,
   "metadata": {},
   "outputs": [],
   "source": [
    "# inputs = image_processor(image_torch, return_tensors=\"pt\")\n",
    "# inputs = {k: v.to(\"cuda\") for k, v in inputs.items()}"
   ]
  },
  {
   "cell_type": "code",
   "execution_count": 7,
   "metadata": {},
   "outputs": [],
   "source": [
    "# with torch.no_grad():\n",
    "#     outputs = model(**inputs)"
   ]
  },
  {
   "cell_type": "code",
   "execution_count": 8,
   "metadata": {},
   "outputs": [],
   "source": [
    "# embeddings = outputs.pooler_output.cpu()"
   ]
  },
  {
   "cell_type": "code",
   "execution_count": 9,
   "metadata": {},
   "outputs": [],
   "source": [
    "# embeddings.shape"
   ]
  },
  {
   "cell_type": "code",
   "execution_count": 10,
   "metadata": {},
   "outputs": [],
   "source": [
    "model = timm.create_model('vit_huge_patch14_clip_224.laion2b_ft_in12k_in1k', \n",
    "                          pretrained=True,\n",
    "                          features_only=True,\n",
    "                          in_chans=3).to('cuda')"
   ]
  },
  {
   "cell_type": "code",
   "execution_count": 11,
   "metadata": {},
   "outputs": [],
   "source": [
    "class ImageEmbedding(torch.nn.Module):\n",
    "    def __init__(self, model):\n",
    "        super().__init__()\n",
    "        self.model = model\n",
    "        self.model.eval()\n",
    "        self.avgpool = torch.nn.AdaptiveAvgPool2d((1, 1))\n",
    "    \n",
    "    def __call__(self, images):\n",
    "        with torch.no_grad():\n",
    "            outputs = self.model(images)[-1]\n",
    "        embeddings = self.avgpool(outputs).squeeze(dim=(2, 3))\n",
    "        return embeddings"
   ]
  },
  {
   "cell_type": "code",
   "execution_count": 12,
   "metadata": {},
   "outputs": [],
   "source": [
    "model = ImageEmbedding(model)"
   ]
  },
  {
   "cell_type": "code",
   "execution_count": 13,
   "metadata": {},
   "outputs": [],
   "source": [
    "index = faiss.IndexFlatL2(1280)"
   ]
  },
  {
   "cell_type": "code",
   "execution_count": 14,
   "metadata": {},
   "outputs": [],
   "source": [
    "info_df = pd.DataFrame(columns=[\"embedding\", \"label\"])"
   ]
  },
  {
   "cell_type": "code",
   "execution_count": 15,
   "metadata": {},
   "outputs": [],
   "source": [
    "model = model.to('cuda')"
   ]
  },
  {
   "cell_type": "code",
   "execution_count": 16,
   "metadata": {},
   "outputs": [
    {
     "name": "stderr",
     "output_type": "stream",
     "text": [
      "100%|██████████| 54/54 [03:12<00:00,  3.57s/it]\n"
     ]
    }
   ],
   "source": [
    "for images, labels in tqdm(train_loader):\n",
    "    images = images.to('cuda')\n",
    "    \n",
    "    with torch.no_grad():\n",
    "        outputs = model(images)\n",
    "\n",
    "    embeddings = outputs.cpu().numpy()\n",
    "\n",
    "    embeddings /= np.linalg.norm(embeddings, axis=1, ord=2, keepdims=True)\n",
    "\n",
    "    index.add(embeddings)\n",
    "\n",
    "    info_df = pd.concat([info_df, pd.DataFrame({\"embedding\": embeddings.tolist(), \"label\": labels.tolist()})]).reset_index(drop=True)"
   ]
  },
  {
   "cell_type": "code",
   "execution_count": 17,
   "metadata": {},
   "outputs": [
    {
     "name": "stdout",
     "output_type": "stream",
     "text": [
      "[[   0 2314  304 1181]\n",
      " [   1 2865  134 3066]\n",
      " [   2 2200  896    7]\n",
      " [   3 3241 2984 2213]\n",
      " [   4 1197 1496 1107]]\n",
      "[[0.         0.00128143 0.00200144 0.01544471]\n",
      " [0.         0.01015058 0.01032665 0.0117109 ]\n",
      " [0.         0.02443112 0.02501391 0.02663725]\n",
      " [0.         0.01678016 0.01730005 0.01756703]\n",
      " [0.         0.01157962 0.01968325 0.03675397]]\n"
     ]
    }
   ],
   "source": [
    "k = 4                          # we want to see 4 nearest neighbors\n",
    "D, I = index.search(np.stack(info_df.iloc[:5, 0]), k) # sanity check\n",
    "print(I)\n",
    "print(D)"
   ]
  },
  {
   "cell_type": "code",
   "execution_count": 21,
   "metadata": {},
   "outputs": [
    {
     "data": {
      "text/html": [
       "<div>\n",
       "<style scoped>\n",
       "    .dataframe tbody tr th:only-of-type {\n",
       "        vertical-align: middle;\n",
       "    }\n",
       "\n",
       "    .dataframe tbody tr th {\n",
       "        vertical-align: top;\n",
       "    }\n",
       "\n",
       "    .dataframe thead th {\n",
       "        text-align: right;\n",
       "    }\n",
       "</style>\n",
       "<table border=\"1\" class=\"dataframe\">\n",
       "  <thead>\n",
       "    <tr style=\"text-align: right;\">\n",
       "      <th></th>\n",
       "      <th>embedding</th>\n",
       "      <th>label</th>\n",
       "    </tr>\n",
       "  </thead>\n",
       "  <tbody>\n",
       "    <tr>\n",
       "      <th>1475</th>\n",
       "      <td>[0.005622134543955326, 0.004532663617283106, 0...</td>\n",
       "      <td>836</td>\n",
       "    </tr>\n",
       "    <tr>\n",
       "      <th>2120</th>\n",
       "      <td>[0.007937784306704998, 0.0008269997197203338, ...</td>\n",
       "      <td>992</td>\n",
       "    </tr>\n",
       "    <tr>\n",
       "      <th>1917</th>\n",
       "      <td>[0.007390028331428766, -0.001740914536640048, ...</td>\n",
       "      <td>810</td>\n",
       "    </tr>\n",
       "    <tr>\n",
       "      <th>1029</th>\n",
       "      <td>[0.006732639390975237, 0.0004799966118298471, ...</td>\n",
       "      <td>982</td>\n",
       "    </tr>\n",
       "    <tr>\n",
       "      <th>2974</th>\n",
       "      <td>[0.01100267842411995, 0.0006617089384235442, 0...</td>\n",
       "      <td>971</td>\n",
       "    </tr>\n",
       "    <tr>\n",
       "      <th>...</th>\n",
       "      <td>...</td>\n",
       "      <td>...</td>\n",
       "    </tr>\n",
       "    <tr>\n",
       "      <th>936</th>\n",
       "      <td>[0.008517772890627384, 0.002008906565606594, 0...</td>\n",
       "      <td>372</td>\n",
       "    </tr>\n",
       "    <tr>\n",
       "      <th>640</th>\n",
       "      <td>[0.012292384169995785, 0.0008968514739535749, ...</td>\n",
       "      <td>913</td>\n",
       "    </tr>\n",
       "    <tr>\n",
       "      <th>1743</th>\n",
       "      <td>[0.006986198481172323, -6.0722744819941e-05, 0...</td>\n",
       "      <td>931</td>\n",
       "    </tr>\n",
       "    <tr>\n",
       "      <th>292</th>\n",
       "      <td>[0.011624250560998917, 0.004361431114375591, 0...</td>\n",
       "      <td>943</td>\n",
       "    </tr>\n",
       "    <tr>\n",
       "      <th>3233</th>\n",
       "      <td>[0.007222332991659641, 0.005141196306794882, 0...</td>\n",
       "      <td>857</td>\n",
       "    </tr>\n",
       "  </tbody>\n",
       "</table>\n",
       "<p>100 rows × 2 columns</p>\n",
       "</div>"
      ],
      "text/plain": [
       "                                              embedding label\n",
       "1475  [0.005622134543955326, 0.004532663617283106, 0...   836\n",
       "2120  [0.007937784306704998, 0.0008269997197203338, ...   992\n",
       "1917  [0.007390028331428766, -0.001740914536640048, ...   810\n",
       "1029  [0.006732639390975237, 0.0004799966118298471, ...   982\n",
       "2974  [0.01100267842411995, 0.0006617089384235442, 0...   971\n",
       "...                                                 ...   ...\n",
       "936   [0.008517772890627384, 0.002008906565606594, 0...   372\n",
       "640   [0.012292384169995785, 0.0008968514739535749, ...   913\n",
       "1743  [0.006986198481172323, -6.0722744819941e-05, 0...   931\n",
       "292   [0.011624250560998917, 0.004361431114375591, 0...   943\n",
       "3233  [0.007222332991659641, 0.005141196306794882, 0...   857\n",
       "\n",
       "[100 rows x 2 columns]"
      ]
     },
     "execution_count": 21,
     "metadata": {},
     "output_type": "execute_result"
    }
   ],
   "source": [
    "info_df.iloc[I[1]]"
   ]
  },
  {
   "cell_type": "code",
   "execution_count": 19,
   "metadata": {},
   "outputs": [
    {
     "name": "stderr",
     "output_type": "stream",
     "text": [
      "100%|██████████| 3/3 [00:32<00:00, 10.76s/it]\n"
     ]
    },
    {
     "data": {
      "text/plain": [
       "0.6325"
      ]
     },
     "execution_count": 19,
     "metadata": {},
     "output_type": "execute_result"
    }
   ],
   "source": [
    "all_labels = []\n",
    "all_preds = []\n",
    "all_class_lengths = []\n",
    "for images, labels in tqdm(val_loader):\n",
    "    images = images.to('cuda')\n",
    "    \n",
    "    with torch.no_grad():\n",
    "        outputs = model(images)\n",
    "\n",
    "    embeddings = outputs.cpu().numpy()\n",
    "\n",
    "    embeddings /= np.linalg.norm(embeddings, axis=1, ord=2, keepdims=True)\n",
    "\n",
    "    D, I = index.search(embeddings, 100)\n",
    "    all_labels.append(labels.numpy())\n",
    "\n",
    "    for i in range(len(images)):\n",
    "        class_ids_top100 = info_df.iloc[I[i], 1].values\n",
    "        place_values = np.array([0.95**i for i in range(100)])\n",
    "        preds = np.zeros(1200) #np.ones(1200) * np.inf\n",
    "        for j in reversed(range(100)):\n",
    "            preds[class_ids_top100[j]] = place_values[j]\n",
    "        \n",
    "        all_preds.append(preds)\n",
    "        try:\n",
    "            label_pos = np.where(class_ids_top100 == labels[i].item())[0][0]\n",
    "            all_class_lengths.append(D[i, label_pos])\n",
    "        except:\n",
    "            all_class_lengths.append(10000)\n",
    "        # all_class_lengths.append(preds[labels[i].item()])\n",
    "    \n",
    "\n",
    "all_labels = np.concatenate(all_labels)\n",
    "all_preds = np.stack(all_preds)\n",
    "\n",
    "mean_average_precision_at_k(all_labels, all_preds, k=5)\n"
   ]
  },
  {
   "cell_type": "code",
   "execution_count": 20,
   "metadata": {},
   "outputs": [
    {
     "data": {
      "image/png": "[encoded data removed]",
      "text/plain": [
       "<Figure size 640x480 with 1 Axes>"
      ]
     },
     "metadata": {},
     "output_type": "display_data"
    }
   ],
   "source": [
    "all_class_lengths = np.array(all_class_lengths)\n",
    "plt.hist(all_class_lengths[all_class_lengths < 100000], bins=15)\n",
    "plt.show()"
   ]
  },
  {
   "cell_type": "markdown",
   "metadata": {},
   "source": [
    "- IP index, normalized: 0.6307\n",
    "- L2 index, unnormalized: 0.6151\n",
    "- L2 index, normalized: 0.6325"
   ]
  },
  {
   "cell_type": "code",
   "execution_count": 22,
   "metadata": {},
   "outputs": [
    {
     "data": {
      "text/plain": [
       "0.01533740758895874"
      ]
     },
     "execution_count": 22,
     "metadata": {},
     "output_type": "execute_result"
    }
   ],
   "source": [
    "np.median(all_class_lengths)"
   ]
  },
  {
   "cell_type": "code",
   "execution_count": 23,
   "metadata": {},
   "outputs": [
    {
     "name": "stderr",
     "output_type": "stream",
     "text": [
      "100%|██████████| 3/3 [00:09<00:00,  3.09s/it]\n"
     ]
    }
   ],
   "source": [
    "for images, labels in tqdm(val_loader):\n",
    "    images = images.to('cuda')\n",
    "    \n",
    "    with torch.no_grad():\n",
    "        outputs = model(images)\n",
    "\n",
    "    embeddings = outputs.cpu().numpy()\n",
    "\n",
    "    embeddings /= np.linalg.norm(embeddings, axis=1, ord=2, keepdims=True)\n",
    "\n",
    "    index.add(embeddings)\n",
    "\n",
    "    info_df = pd.concat([info_df, pd.DataFrame({\"embedding\": embeddings.tolist(), \"label\": labels.tolist()})]).reset_index(drop=True)"
   ]
  },
  {
   "cell_type": "code",
   "execution_count": 24,
   "metadata": {},
   "outputs": [],
   "source": [
    "THRESHOLD = 0.02"
   ]
  },
  {
   "cell_type": "code",
   "execution_count": 25,
   "metadata": {},
   "outputs": [
    {
     "name": "stderr",
     "output_type": "stream",
     "text": [
      "100%|██████████| 205/205 [11:26<00:00,  3.35s/it]\n"
     ]
    }
   ],
   "source": [
    "test_preds = []\n",
    "for images in tqdm(test_loader):\n",
    "    images = images.to('cuda')\n",
    "    \n",
    "    with torch.no_grad():\n",
    "        outputs = model(images)\n",
    "\n",
    "    embeddings = outputs.cpu().numpy()\n",
    "\n",
    "    embeddings /= np.linalg.norm(embeddings, axis=1, ord=2, keepdims=True)\n",
    "\n",
    "    D, I = index.search(embeddings, 100)\n",
    "\n",
    "    for i in range(len(images)):\n",
    "        class_ids_top100 = info_df.iloc[I[i], 1].values\n",
    "        preds = np.ones(1200) * np.inf\n",
    "        # preds = np.zeros(1200)\n",
    "        for j in reversed(range(100)):\n",
    "            preds[class_ids_top100[j]] = D[i, j]\n",
    "        \n",
    "        top_classes = np.argsort(preds)[:5] # [::-1][:5]\n",
    "        top_classes_dists = preds[top_classes]\n",
    "\n",
    "        # set -1 on the first place after THRESHOLD\n",
    "        cutoff_location = np.sum(preds < THRESHOLD)\n",
    "        if cutoff_location < 5:\n",
    "            for j in range(1, 5 - cutoff_location):\n",
    "                top_classes[5 - j] = top_classes[5 - j - 1]\n",
    "            top_classes[cutoff_location] = -1\n",
    "\n",
    "        test_preds.append(top_classes)"
   ]
  },
  {
   "cell_type": "code",
   "execution_count": 26,
   "metadata": {},
   "outputs": [],
   "source": [
    "test_df = pd.read_csv(TEST_CSV)"
   ]
  },
  {
   "cell_type": "code",
   "execution_count": 27,
   "metadata": {},
   "outputs": [],
   "source": [
    "test_df['class'] = [' '.join([str(el) for el in classes]) for classes in test_preds]"
   ]
  },
  {
   "cell_type": "code",
   "execution_count": 28,
   "metadata": {},
   "outputs": [],
   "source": [
    "test_df[['file_id', 'class']].to_csv('../submissions/vit_clip_l2_norm_thresh0.2.csv', index=False)"
   ]
  },
  {
   "cell_type": "code",
   "execution_count": 29,
   "metadata": {},
   "outputs": [
    {
     "name": "stderr",
     "output_type": "stream",
     "text": [
      "100%|██████████| 205/205 [11:04<00:00,  3.24s/it]\n"
     ]
    }
   ],
   "source": [
    "test_preds = []\n",
    "for images in tqdm(test_loader):\n",
    "    images = images.to('cuda')\n",
    "    \n",
    "    with torch.no_grad():\n",
    "        outputs = model(images)\n",
    "\n",
    "    embeddings = outputs.cpu().numpy()\n",
    "\n",
    "    embeddings /= np.linalg.norm(embeddings, axis=1, ord=2, keepdims=True)\n",
    "\n",
    "    D, I = index.search(embeddings, 100)\n",
    "\n",
    "    for i in range(len(images)):\n",
    "        class_ids_top100 = info_df.iloc[I[i], 1].values\n",
    "        preds = np.ones(1200) * np.inf\n",
    "        # preds = np.zeros(1200)\n",
    "        for j in reversed(range(100)):\n",
    "            preds[class_ids_top100[j]] = D[i, j]\n",
    "        \n",
    "        top_classes = np.argsort(preds)[:5] # [::-1][:5]\n",
    "        top_classes_dists = preds[top_classes]\n",
    "\n",
    "        test_preds.append(top_classes)"
   ]
  },
  {
   "cell_type": "code",
   "execution_count": 30,
   "metadata": {},
   "outputs": [],
   "source": [
    "test_df['512x512'] = test_df['file_id'].apply(lambda file_id: (Image.open(os.path.join(TEST_DIR, f'{file_id}.jpg')).size) == (512, 512))"
   ]
  },
  {
   "cell_type": "code",
   "execution_count": 31,
   "metadata": {},
   "outputs": [],
   "source": [
    "test_df['class'] = [[str(el) for el in classes] for classes in test_preds]"
   ]
  },
  {
   "cell_type": "code",
   "execution_count": 32,
   "metadata": {},
   "outputs": [],
   "source": [
    "test_df.loc[test_df['512x512'], 'class'] = test_df.loc[test_df['512x512'], 'class'].apply(lambda classes: '-1 ' + ' '.join(classes[:-1]))\n",
    "test_df.loc[~test_df['512x512'], 'class'] = test_df.loc[~test_df['512x512'], 'class'].apply(lambda classes: ' '.join(classes))"
   ]
  },
  {
   "cell_type": "code",
   "execution_count": 33,
   "metadata": {},
   "outputs": [],
   "source": [
    "test_df[['file_id', 'class']].to_csv('../submissions/vit_clip_l2_norm_leak.csv', index=False)"
   ]
  },
  {
   "cell_type": "code",
   "execution_count": null,
   "metadata": {},
   "outputs": [],
   "source": []
  }
 ],
 "metadata": {
  "kernelspec": {
   "display_name": "image_retrieval",
   "language": "python",
   "name": "python3"
  },
  "language_info": {
   "codemirror_mode": {
    "name": "ipython",
    "version": 3
   },
   "file_extension": ".py",
   "mimetype": "text/x-python",
   "name": "python",
   "nbconvert_exporter": "python",
   "pygments_lexer": "ipython3",
   "version": "3.12.3"
  }
 },
 "nbformat": 4,
 "nbformat_minor": 2
}

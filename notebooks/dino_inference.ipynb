{
 "cells": [
  {
   "cell_type": "code",
   "execution_count": 9,
   "metadata": {},
   "outputs": [],
   "source": [
    "import sys\n",
    "import os\n",
    "sys.path.append('../')"
   ]
  },
  {
   "cell_type": "code",
   "execution_count": 10,
   "metadata": {},
   "outputs": [],
   "source": [
    "import torch\n",
    "import faiss\n",
    "from transformers import AutoImageProcessor, Dinov2Model\n",
    "from PIL import Image\n",
    "from tqdm import tqdm\n",
    "import torchvision.transforms as T\n",
    "import pandas as pd\n",
    "import numpy as np\n",
    "import matplotlib.pyplot as plt\n",
    "\n",
    "from utils.data import get_loaders\n",
    "from utils.metrics import mean_average_precision_at_k\n",
    "from utils.constants import TRAIN_CSV, TEST_CSV, TRAIN_DIR, TEST_DIR"
   ]
  },
  {
   "cell_type": "code",
   "execution_count": 11,
   "metadata": {},
   "outputs": [],
   "source": [
    "image_processor = AutoImageProcessor.from_pretrained(\"facebook/dinov2-base\")\n",
    "model = Dinov2Model.from_pretrained(\"facebook/dinov2-base\").to(\"cuda\")"
   ]
  },
  {
   "cell_type": "code",
   "execution_count": 12,
   "metadata": {},
   "outputs": [
    {
     "data": {
      "text/plain": [
       "'c:\\\\Users\\\\Andrii\\\\Data\\\\_UNIVER\\\\UCU\\\\3 sem\\\\CV\\\\image_retrieval\\\\data\\\\train.csv'"
      ]
     },
     "execution_count": 12,
     "metadata": {},
     "output_type": "execute_result"
    }
   ],
   "source": [
    "TRAIN_CSV"
   ]
  },
  {
   "cell_type": "code",
   "execution_count": 13,
   "metadata": {},
   "outputs": [],
   "source": [
    "loaders_params = { \n",
    "    'batch_size': 64,\n",
    "    'num_workers': 8,\n",
    "    'pin_memory': False,\n",
    "    'persistent_workers': True,\n",
    "}\n",
    "train_loader, val_loader, test_loader = get_loaders(**loaders_params,\n",
    "                                                    train_transforms=T.Compose([\n",
    "                                                        T.Resize((224, 224)),\n",
    "                                                        T.ToTensor(),\n",
    "                                                    ]),\n",
    "                                                    test_transforms=T.Compose([\n",
    "                                                        T.Resize((224, 224)),\n",
    "                                                        T.ToTensor(),\n",
    "                                                    ]))"
   ]
  },
  {
   "cell_type": "code",
   "execution_count": 14,
   "metadata": {},
   "outputs": [],
   "source": [
    "# inputs = image_processor(image_torch, return_tensors=\"pt\")\n",
    "# inputs = {k: v.to(\"cuda\") for k, v in inputs.items()}"
   ]
  },
  {
   "cell_type": "code",
   "execution_count": 15,
   "metadata": {},
   "outputs": [],
   "source": [
    "# with torch.no_grad():\n",
    "#     outputs = model(**inputs)"
   ]
  },
  {
   "cell_type": "code",
   "execution_count": 16,
   "metadata": {},
   "outputs": [],
   "source": [
    "# embeddings = outputs.pooler_output.cpu()"
   ]
  },
  {
   "cell_type": "code",
   "execution_count": 17,
   "metadata": {},
   "outputs": [],
   "source": [
    "# embeddings.shape"
   ]
  },
  {
   "cell_type": "code",
   "execution_count": 18,
   "metadata": {},
   "outputs": [],
   "source": [
    "index = faiss.IndexFlatL2(768)"
   ]
  },
  {
   "cell_type": "code",
   "execution_count": 19,
   "metadata": {},
   "outputs": [],
   "source": [
    "info_df = pd.DataFrame(columns=[\"embedding\", \"label\"])"
   ]
  },
  {
   "cell_type": "code",
   "execution_count": 20,
   "metadata": {},
   "outputs": [
    {
     "name": "stderr",
     "output_type": "stream",
     "text": [
      "100%|██████████| 54/54 [01:23<00:00,  1.54s/it]\n"
     ]
    }
   ],
   "source": [
    "for images, labels in tqdm(train_loader):\n",
    "    inputs = image_processor(images, return_tensors=\"pt\", do_rescale=False)\n",
    "    inputs = {k: v.to(\"cuda\") for k, v in inputs.items()}\n",
    "\n",
    "    with torch.no_grad():\n",
    "        outputs = model(**inputs)\n",
    "\n",
    "    embeddings = outputs.pooler_output.cpu().numpy()\n",
    "\n",
    "    # embeddings /= np.linalg.norm(embeddings, axis=1, ord=2, keepdims=True)\n",
    "\n",
    "    index.add(embeddings)\n",
    "\n",
    "    info_df = pd.concat([info_df, pd.DataFrame({\"embedding\": embeddings.tolist(), \"label\": labels.tolist()})]).reset_index(drop=True)"
   ]
  },
  {
   "cell_type": "code",
   "execution_count": 21,
   "metadata": {},
   "outputs": [
    {
     "name": "stdout",
     "output_type": "stream",
     "text": [
      "[[   0 1901 3084 2053]\n",
      " [   1  143 2749 1557]\n",
      " [   2 1967 1811   22]\n",
      " [   3 2027 2417 1662]\n",
      " [   4  733  683 1505]]\n",
      "[[   0.      1636.4272  2557.2654  2584.5288 ]\n",
      " [   0.      1044.7953  1302.6913  1317.7646 ]\n",
      " [   0.      1309.5967  2348.823   2515.1743 ]\n",
      " [   0.      1367.8634  1483.58    1858.1724 ]\n",
      " [   0.       894.5419   903.1749   907.01276]]\n"
     ]
    }
   ],
   "source": [
    "k = 4                          # we want to see 4 nearest neighbors\n",
    "D, I = index.search(np.stack(info_df.iloc[:5, 0]), k) # sanity check\n",
    "print(I)\n",
    "print(D)"
   ]
  },
  {
   "cell_type": "code",
   "execution_count": 22,
   "metadata": {},
   "outputs": [
    {
     "data": {
      "text/html": [
       "<div>\n",
       "<style scoped>\n",
       "    .dataframe tbody tr th:only-of-type {\n",
       "        vertical-align: middle;\n",
       "    }\n",
       "\n",
       "    .dataframe tbody tr th {\n",
       "        vertical-align: top;\n",
       "    }\n",
       "\n",
       "    .dataframe thead th {\n",
       "        text-align: right;\n",
       "    }\n",
       "</style>\n",
       "<table border=\"1\" class=\"dataframe\">\n",
       "  <thead>\n",
       "    <tr style=\"text-align: right;\">\n",
       "      <th></th>\n",
       "      <th>embedding</th>\n",
       "      <th>label</th>\n",
       "    </tr>\n",
       "  </thead>\n",
       "  <tbody>\n",
       "    <tr>\n",
       "      <th>4</th>\n",
       "      <td>[-0.08664700388908386, -0.130557581782341, -1....</td>\n",
       "      <td>1148</td>\n",
       "    </tr>\n",
       "    <tr>\n",
       "      <th>1918</th>\n",
       "      <td>[1.130184292793274, -0.4357452988624573, -2.26...</td>\n",
       "      <td>301</td>\n",
       "    </tr>\n",
       "    <tr>\n",
       "      <th>2094</th>\n",
       "      <td>[0.23068645596504211, 3.168699264526367, 0.925...</td>\n",
       "      <td>810</td>\n",
       "    </tr>\n",
       "    <tr>\n",
       "      <th>1163</th>\n",
       "      <td>[-2.2882516384124756, 0.09186947345733643, 0.5...</td>\n",
       "      <td>239</td>\n",
       "    </tr>\n",
       "  </tbody>\n",
       "</table>\n",
       "</div>"
      ],
      "text/plain": [
       "                                              embedding label\n",
       "4     [-0.08664700388908386, -0.130557581782341, -1....  1148\n",
       "1918  [1.130184292793274, -0.4357452988624573, -2.26...   301\n",
       "2094  [0.23068645596504211, 3.168699264526367, 0.925...   810\n",
       "1163  [-2.2882516384124756, 0.09186947345733643, 0.5...   239"
      ]
     },
     "execution_count": 22,
     "metadata": {},
     "output_type": "execute_result"
    }
   ],
   "source": [
    "info_df.iloc[[   4, 1918, 2094, 1163]]"
   ]
  },
  {
   "cell_type": "code",
   "execution_count": 23,
   "metadata": {},
   "outputs": [
    {
     "name": "stderr",
     "output_type": "stream",
     "text": [
      "100%|██████████| 3/3 [00:34<00:00, 11.39s/it]\n"
     ]
    },
    {
     "data": {
      "text/plain": [
       "0.6619444444444444"
      ]
     },
     "execution_count": 23,
     "metadata": {},
     "output_type": "execute_result"
    }
   ],
   "source": [
    "all_labels = []\n",
    "all_preds = []\n",
    "all_class_lengths = []\n",
    "for images, labels in tqdm(val_loader):\n",
    "    inputs = image_processor(images, return_tensors=\"pt\", do_rescale=False)\n",
    "    inputs = {k: v.to(\"cuda\") for k, v in inputs.items()}\n",
    "\n",
    "    with torch.no_grad():\n",
    "        outputs = model(**inputs)\n",
    "\n",
    "    embeddings = outputs.pooler_output.cpu().numpy()\n",
    "\n",
    "    # embeddings /= np.linalg.norm(embeddings, axis=1, ord=2, keepdims=True)\n",
    "\n",
    "    D, I = index.search(embeddings, 100)\n",
    "    all_labels.append(labels.numpy())\n",
    "\n",
    "    for i in range(len(images)):\n",
    "        class_ids_top100 = info_df.iloc[I[i], 1].values\n",
    "        place_values = np.array([0.95**i for i in range(100)])\n",
    "        preds = np.zeros(1200)\n",
    "        for j in reversed(range(100)):\n",
    "            preds[class_ids_top100[j]] = place_values[j]\n",
    "        \n",
    "        all_preds.append(preds)\n",
    "        try:\n",
    "            label_pos = np.where(class_ids_top100 == labels[i].item())[0][0]\n",
    "            all_class_lengths.append(D[i, label_pos])\n",
    "        except:\n",
    "            all_class_lengths.append(10_000)\n",
    "        # all_class_lengths.append(preds[labels[i].item()])\n",
    "    \n",
    "\n",
    "all_labels = np.concatenate(all_labels)\n",
    "all_preds = np.stack(all_preds)\n",
    "\n",
    "mean_average_precision_at_k(all_labels, all_preds, k=5)\n"
   ]
  },
  {
   "cell_type": "code",
   "execution_count": 25,
   "metadata": {},
   "outputs": [
    {
     "data": {
      "image/png": "[encoded data removed]",
      "text/plain": [
       "<Figure size 640x480 with 1 Axes>"
      ]
     },
     "metadata": {},
     "output_type": "display_data"
    }
   ],
   "source": [
    "all_class_lengths = np.array(all_class_lengths)\n",
    "plt.hist(all_class_lengths[all_class_lengths < 10000], bins=15)\n",
    "plt.title(\"Distance to the closest sample from the same class\")\n",
    "plt.xlabel(\"Distance in the embedding space\")\n",
    "plt.ylabel(\"Number of samples\")\n",
    "plt.show()"
   ]
  },
  {
   "cell_type": "markdown",
   "metadata": {},
   "source": [
    "- Val 1: do rescale = False, L2 index: 0.34\n",
    "- Val 2: do rescale = True, L2 index: 0.11\n",
    "- Val 3: do rescale = False, IP index, normalization of embeddings: 0.32\n",
    "- Val 4: do rescale = False, IP index, normalization of embeddings, just nearest neighbours: 0.66\n",
    "- Val 4: do rescale = False, L2 index, just nearest neighbours: 0.694"
   ]
  },
  {
   "cell_type": "code",
   "execution_count": 17,
   "metadata": {},
   "outputs": [
    {
     "data": {
      "text/plain": [
       "0.6385553479194641"
      ]
     },
     "execution_count": 17,
     "metadata": {},
     "output_type": "execute_result"
    }
   ],
   "source": [
    "# np.median(all_class_lengths)"
   ]
  },
  {
   "cell_type": "code",
   "execution_count": 17,
   "metadata": {},
   "outputs": [
    {
     "name": "stderr",
     "output_type": "stream",
     "text": [
      "100%|██████████| 3/3 [00:03<00:00,  1.00s/it]\n"
     ]
    }
   ],
   "source": [
    "for images, labels in tqdm(val_loader):\n",
    "    inputs = image_processor(images, return_tensors=\"pt\", do_rescale=False)\n",
    "    inputs = {k: v.to(\"cuda\") for k, v in inputs.items()}\n",
    "\n",
    "    with torch.no_grad():\n",
    "        outputs = model(**inputs)\n",
    "\n",
    "    embeddings = outputs.pooler_output.cpu().numpy()\n",
    "\n",
    "    embeddings /= np.linalg.norm(embeddings, axis=1, ord=2, keepdims=True)\n",
    "\n",
    "    index.add(embeddings)\n",
    "\n",
    "    info_df = pd.concat([info_df, pd.DataFrame({\"embedding\": embeddings.tolist(), \"label\": labels.tolist()})]).reset_index(drop=True)"
   ]
  },
  {
   "cell_type": "code",
   "execution_count": 24,
   "metadata": {},
   "outputs": [],
   "source": [
    "THRESHOLD = 0.5"
   ]
  },
  {
   "cell_type": "code",
   "execution_count": 26,
   "metadata": {},
   "outputs": [
    {
     "name": "stderr",
     "output_type": "stream",
     "text": [
      "100%|██████████| 205/205 [03:00<00:00,  1.13it/s]\n"
     ]
    }
   ],
   "source": [
    "test_preds = []\n",
    "for images in tqdm(test_loader):\n",
    "    inputs = image_processor(images, return_tensors=\"pt\", do_rescale=False)\n",
    "    inputs = {k: v.to(\"cuda\") for k, v in inputs.items()}\n",
    "\n",
    "    with torch.no_grad():\n",
    "        outputs = model(**inputs)\n",
    "\n",
    "    embeddings = outputs.pooler_output.cpu().numpy()\n",
    "\n",
    "    embeddings /= np.linalg.norm(embeddings, axis=1, ord=2, keepdims=True)\n",
    "\n",
    "    D, I = index.search(embeddings, 100)\n",
    "\n",
    "    for i in range(len(images)):\n",
    "        class_ids_top100 = info_df.iloc[I[i], 1].values\n",
    "        # preds = np.ones(1200) * np.inf\n",
    "        preds = np.zeros(1200)\n",
    "        for j in reversed(range(100)):\n",
    "            preds[class_ids_top100[j]] = D[i, j]\n",
    "        \n",
    "        top_classes = np.argsort(preds)[::-1][:5]\n",
    "        top_classes_dists = preds[top_classes]\n",
    "\n",
    "        # set -1 on the first place after THRESHOLD\n",
    "        cutoff_location = np.sum(preds > THRESHOLD)\n",
    "        if cutoff_location < 5:\n",
    "            for j in range(1, 5 - cutoff_location):\n",
    "                top_classes[5 - j] = top_classes[5 - j - 1]\n",
    "            top_classes[cutoff_location] = -1\n",
    "\n",
    "        test_preds.append(top_classes)"
   ]
  },
  {
   "cell_type": "code",
   "execution_count": 27,
   "metadata": {},
   "outputs": [],
   "source": [
    "test_df = pd.read_csv(TEST_CSV)"
   ]
  },
  {
   "cell_type": "code",
   "execution_count": 28,
   "metadata": {},
   "outputs": [],
   "source": [
    "test_df['class'] = [' '.join([str(el) for el in classes]) for classes in test_preds]"
   ]
  },
  {
   "cell_type": "code",
   "execution_count": 30,
   "metadata": {},
   "outputs": [],
   "source": [
    "test_df[['file_id', 'class']].to_csv('../submissions/dinov2_ip_noleak_thresh0.5.csv', index=False)"
   ]
  },
  {
   "cell_type": "code",
   "execution_count": 31,
   "metadata": {},
   "outputs": [
    {
     "name": "stderr",
     "output_type": "stream",
     "text": [
      "100%|██████████| 205/205 [03:00<00:00,  1.14it/s]\n"
     ]
    }
   ],
   "source": [
    "test_preds = []\n",
    "for images in tqdm(test_loader):\n",
    "    inputs = image_processor(images, return_tensors=\"pt\", do_rescale=False)\n",
    "    inputs = {k: v.to(\"cuda\") for k, v in inputs.items()}\n",
    "\n",
    "    with torch.no_grad():\n",
    "        outputs = model(**inputs)\n",
    "\n",
    "    embeddings = outputs.pooler_output.cpu().numpy()\n",
    "\n",
    "    embeddings /= np.linalg.norm(embeddings, axis=1, ord=2, keepdims=True)\n",
    "\n",
    "    D, I = index.search(embeddings, 100)\n",
    "\n",
    "    for i in range(len(images)):\n",
    "        class_ids_top100 = info_df.iloc[I[i], 1].values\n",
    "        # preds = np.ones(1200) * np.inf\n",
    "        preds = np.zeros(1200)\n",
    "        for j in reversed(range(100)):\n",
    "            preds[class_ids_top100[j]] = D[i, j]\n",
    "        \n",
    "        top_classes = np.argsort(preds)[::-1][:5]\n",
    "        top_classes_dists = preds[top_classes]\n",
    "\n",
    "        test_preds.append(top_classes)"
   ]
  },
  {
   "cell_type": "code",
   "execution_count": 32,
   "metadata": {},
   "outputs": [],
   "source": [
    "test_df['512x512'] = test_df['file_id'].apply(lambda file_id: (Image.open(os.path.join(TEST_DIR, f'{file_id}.jpg')).size) == (512, 512))"
   ]
  },
  {
   "cell_type": "code",
   "execution_count": 33,
   "metadata": {},
   "outputs": [],
   "source": [
    "test_df['class'] = [[str(el) for el in classes] for classes in test_preds]"
   ]
  },
  {
   "cell_type": "code",
   "execution_count": 34,
   "metadata": {},
   "outputs": [],
   "source": [
    "test_df.loc[test_df['512x512'], 'class'] = test_df.loc[test_df['512x512'], 'class'].apply(lambda classes: '-1 ' + ' '.join(classes[:-1]))\n",
    "test_df.loc[~test_df['512x512'], 'class'] = test_df.loc[~test_df['512x512'], 'class'].apply(lambda classes: ' '.join(classes))"
   ]
  },
  {
   "cell_type": "code",
   "execution_count": 35,
   "metadata": {},
   "outputs": [],
   "source": [
    "test_df[['file_id', 'class']].to_csv('../submissions/dinov2_ip_leak.csv', index=False)"
   ]
  },
  {
   "cell_type": "code",
   "execution_count": null,
   "metadata": {},
   "outputs": [],
   "source": []
  }
 ],
 "metadata": {
  "kernelspec": {
   "display_name": "image_retrieval",
   "language": "python",
   "name": "python3"
  },
  "language_info": {
   "codemirror_mode": {
    "name": "ipython",
    "version": 3
   },
   "file_extension": ".py",
   "mimetype": "text/x-python",
   "name": "python",
   "nbconvert_exporter": "python",
   "pygments_lexer": "ipython3",
   "version": "3.12.3"
  }
 },
 "nbformat": 4,
 "nbformat_minor": 2
}
